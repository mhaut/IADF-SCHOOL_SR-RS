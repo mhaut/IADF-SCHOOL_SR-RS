{
 "cells": [
  {
   "cell_type": "markdown",
   "metadata": {},
   "source": [
    "# Super-Resolution Exercises with deep neural networks\n",
    "\n",
    "## Exercise 1: Create your own neural network for SR\n",
    "\n",
    "**Objective:** Implement a convolutional neural network for data super-resolution. You can try with different architectures, including residual and dense connections.\n",
    "\n",
    "**Tasks:**\n",
    "1. Define the network.\n",
    "2. Load an image (you can use UCMerced).\n",
    "2. Downsample the image.\n",
    "3. Apply the neural network for upsampling.\n",
    "4. Display the results.\n",
    "5. Calculate the PSNR and SSIM measures."
   ]
  },
  {
   "cell_type": "markdown",
   "metadata": {},
   "source": [
    "**Code**"
   ]
  },
  {
   "cell_type": "code",
   "execution_count": null,
   "metadata": {},
   "outputs": [],
   "source": []
  }
 ],
 "metadata": {
  "kernelspec": {
   "display_name": "arqesp",
   "language": "python",
   "name": "python3"
  },
  "language_info": {
   "codemirror_mode": {
    "name": "ipython",
    "version": 3
   },
   "file_extension": ".py",
   "mimetype": "text/x-python",
   "name": "python",
   "nbconvert_exporter": "python",
   "pygments_lexer": "ipython3",
   "version": "3.10.11"
  }
 },
 "nbformat": 4,
 "nbformat_minor": 2
}
