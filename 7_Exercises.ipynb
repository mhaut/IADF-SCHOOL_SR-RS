{
 "cells": [
  {
   "cell_type": "markdown",
   "metadata": {},
   "source": [
    "# Super-Resolution Exercises\n",
    "\n",
    "## Exercise 1: Basic Upsampling Techniques\n",
    "\n",
    "**Objective:** Implement and compare basic upsampling techniques using opencv.\n",
    "\n",
    "**Tasks:**\n",
    "1. Load an image.\n",
    "2. Downsample the image.\n",
    "3. Apply various upsampling techniques.\n",
    "4. Display the results.\n",
    "5. Save the results."
   ]
  },
  {
   "cell_type": "markdown",
   "metadata": {},
   "source": [
    "**Code**"
   ]
  },
  {
   "cell_type": "code",
   "execution_count": null,
   "metadata": {},
   "outputs": [],
   "source": []
  },
  {
   "cell_type": "markdown",
   "metadata": {},
   "source": [
    "## Exercise 2: Compute PSNR and SSIM\n",
    "\n",
    "**Objective:** Compute PSNR and SSIM for comparing image quality.\n",
    "\n",
    "**Tasks:**\n",
    "1. Implement functions to compute PSNR and SSIM.\n",
    "2. Load the previous image saved.\n",
    "3. Evaluate these metrics for different upsampling methods."
   ]
  },
  {
   "cell_type": "code",
   "execution_count": null,
   "metadata": {},
   "outputs": [],
   "source": []
  }
 ],
 "metadata": {
  "kernelspec": {
   "display_name": "arqesp",
   "language": "python",
   "name": "python3"
  },
  "language_info": {
   "codemirror_mode": {
    "name": "ipython",
    "version": 3
   },
   "file_extension": ".py",
   "mimetype": "text/x-python",
   "name": "python",
   "nbconvert_exporter": "python",
   "pygments_lexer": "ipython3",
   "version": "3.10.11"
  }
 },
 "nbformat": 4,
 "nbformat_minor": 2
}
