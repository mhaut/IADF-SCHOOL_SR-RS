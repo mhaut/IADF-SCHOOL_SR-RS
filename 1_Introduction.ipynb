{
 "cells": [
  {
   "cell_type": "markdown",
   "metadata": {},
   "source": [
    "# Super-Resolution Techniques in Python\n",
    "\n",
    "## What is Super-Resolution?\n",
    "\n",
    "**Super-Resolution** refers to a set of techniques used to enhance the resolution of an image. The goal is to create a high-resolution (HR) image from one or more low-resolution (LR) images. This is particularly useful in various applications such as satellite imaging, medical imaging, and improving the quality of images in video and photography.\n",
    "\n",
    "### Key Concepts\n",
    "\n",
    "1. **Resolution**: The amount of detail an image holds. Higher resolution means more detail.\n",
    "2. **Low-Resolution (LR) Image**: An image with a lower amount of detail, often due to a lower number of pixels.\n",
    "3. **High-Resolution (HR) Image**: An image with more detail, often resulting from higher pixel count or advanced processing.\n",
    "\n",
    "### Super-Resolution Techniques\n",
    "\n",
    "There are several techniques for achieving super-resolution. These can be broadly categorized into traditional image processing methods and deep learning-based methods:\n",
    "\n",
    "1. **Traditional Methods**:\n",
    "   - **Nearest Neighbor Upsampling**: A simple method that replicates the nearest pixel value.\n",
    "   - **Bilinear Upsampling**: Uses linear interpolation to estimate pixel values, resulting in smoother images.\n",
    "   - **Bicubic Upsampling**: Uses cubic interpolation, providing even smoother results compared to bilinear.\n",
    "   - **Lanczos Upsampling**: Uses the sinc function to interpolate pixel values, offering high-quality results.\n",
    "\n",
    "2. **Deep Learning-Based Methods**:\n",
    "   - **SRCNN (Super-Resolution Convolutional Neural Network)**: A neural network model specifically designed to improve image resolution by learning from data.\n",
    "   - **FSRCNN (Fast SRCNN)**: an improved version of SRCNN that aims for faster processing and better performance.\n",
    "   - **VDSR (Very Deep Super-Resolution)**: it uses a deeper network with residual learning to achieve better performance.\n",
    "   - **EDSR (Enhanced Deep Super-Resolution Network)**: it builds on the concept of residual learning and removes unnecessary batch normalization layers to achieve state-of-the-art performance.\n",
    "   - **ESRGAN (Enhanced Super-Resolution Generative Adversarial Network)**: it utilizes a Generative Adversarial Network (GAN) to improve the perceptual quality of the generated images."
   ]
  },
  {
   "cell_type": "markdown",
   "metadata": {},
   "source": [
    "**Importing libraries**"
   ]
  },
  {
   "cell_type": "code",
   "execution_count": 1,
   "metadata": {},
   "outputs": [],
   "source": [
    "from PIL import Image\n",
    "import numpy as np\n",
    "import matplotlib.pyplot as plt\n",
    "import cv2"
   ]
  },
  {
   "cell_type": "markdown",
   "metadata": {},
   "source": [
    "**Show an example**"
   ]
  },
  {
   "cell_type": "code",
   "execution_count": null,
   "metadata": {},
   "outputs": [],
   "source": [
    "# Load an image\n",
    "image_hr = Image.open('./images/image_hr.png').convert('RGB')\n",
    "image_lr_2 = Image.open('./images/image_lr_2.png').convert('RGB')\n",
    "image_lr_4 = Image.open('./images/image_lr_4.png').convert('RGB')\n",
    "\n",
    "# Create a figure with subplots\n",
    "fig, axs = plt.subplots(1, 4, figsize=(20, 5), gridspec_kw={'width_ratios': [1, 0.5, 0.25, 1]})\n",
    "\n",
    "# Display each image in a subplot\n",
    "axs[0].imshow(image_hr)\n",
    "axs[0].set_title('Original Image')\n",
    "axs[0].axis('on')\n",
    "\n",
    "axs[1].imshow(image_lr_2)\n",
    "axs[1].set_title('Low Res. x2')\n",
    "axs[1].axis('on')\n",
    "\n",
    "axs[2].imshow(image_lr_4)\n",
    "axs[2].set_title('Low Res. x4')\n",
    "axs[2].axis('on')\n",
    "\n",
    "axs[3].axis('off')\n",
    "\n",
    "plt.show()"
   ]
  },
  {
   "cell_type": "markdown",
   "metadata": {},
   "source": [
    "# Nearest Neighbor Upsampling"
   ]
  },
  {
   "cell_type": "code",
   "execution_count": null,
   "metadata": {},
   "outputs": [],
   "source": [
    "def nearest_neighbor_upsample(image, scale_factor):\n",
    "    image = np.array(image)\n",
    "    return Image.fromarray(cv2.resize(image, None, fx=scale_factor, fy=scale_factor, interpolation=cv2.INTER_NEAREST))\n",
    "\n",
    "nn_upscaled_image_2 = nearest_neighbor_upsample(image_lr_2, 2)\n",
    "nn_upscaled_image_4 = nearest_neighbor_upsample(image_lr_4, 4)\n",
    "\n",
    "# Create a figure with subplots\n",
    "fig, axs = plt.subplots(1, 5, figsize=(20, 5), gridspec_kw={'width_ratios': [1, 0.5, 1, 0.25, 1]})\n",
    "\n",
    "# Display each image in a subplot\n",
    "axs[0].imshow(image_hr)\n",
    "axs[0].set_title('Original Image')\n",
    "axs[0].axis('on')\n",
    "\n",
    "axs[1].imshow(image_lr_2)\n",
    "axs[1].set_title('Low Resolution (LR) x2')\n",
    "axs[1].axis('on')\n",
    "\n",
    "axs[2].imshow(nn_upscaled_image_2)\n",
    "axs[2].set_title('NEAREST-Up x2')\n",
    "axs[2].axis('on')\n",
    "\n",
    "axs[3].imshow(image_lr_4)\n",
    "axs[3].set_title('Low Resolution (LR) x4')\n",
    "axs[3].axis('off')\n",
    "\n",
    "axs[4].imshow(nn_upscaled_image_4)\n",
    "axs[4].set_title('NEAREST-Up x4')\n",
    "axs[4].axis('on')\n",
    "\n",
    "plt.show()"
   ]
  },
  {
   "cell_type": "markdown",
   "metadata": {},
   "source": [
    "# Bilinear Upsampling"
   ]
  },
  {
   "cell_type": "code",
   "execution_count": null,
   "metadata": {},
   "outputs": [],
   "source": [
    "def bilinear_upsample(image, scale_factor):\n",
    "    image = np.array(image)\n",
    "    return Image.fromarray(cv2.resize(image, None, fx=scale_factor, fy=scale_factor, interpolation=cv2.INTER_LINEAR))\n",
    "\n",
    "# Demonstration\n",
    "nn_upscaled_image_2 = bilinear_upsample(image_lr_2, 2)\n",
    "nn_upscaled_image_4 = bilinear_upsample(image_lr_4, 4)\n",
    "\n",
    "# Create a figure with subplots\n",
    "fig, axs = plt.subplots(1, 5, figsize=(20, 5), gridspec_kw={'width_ratios': [1, 0.5, 1, 0.25, 1]})\n",
    "\n",
    "# Display each image in a subplot\n",
    "axs[0].imshow(image_hr)\n",
    "axs[0].set_title('Original Image')\n",
    "axs[0].axis('on')\n",
    "\n",
    "axs[1].imshow(image_lr_2)\n",
    "axs[1].set_title('Low Resolution (LR) x2')\n",
    "axs[1].axis('on')\n",
    "\n",
    "axs[2].imshow(nn_upscaled_image_2)\n",
    "axs[2].set_title('BILINEAR-Up x2')\n",
    "axs[2].axis('on')\n",
    "\n",
    "axs[3].imshow(image_lr_4)\n",
    "axs[3].set_title('Low Resolution (LR) x4')\n",
    "axs[3].axis('on')\n",
    "\n",
    "axs[4].imshow(nn_upscaled_image_4)\n",
    "axs[4].set_title('BILINEAR-Up x4')\n",
    "axs[4].axis('off')\n",
    "\n",
    "plt.show()"
   ]
  },
  {
   "cell_type": "markdown",
   "metadata": {},
   "source": [
    "# Bicubic Upsampling"
   ]
  },
  {
   "cell_type": "code",
   "execution_count": null,
   "metadata": {},
   "outputs": [],
   "source": [
    "def bicubic_upsample(image, scale_factor):\n",
    "    image = np.array(image)\n",
    "    return Image.fromarray(cv2.resize(image, None, fx=scale_factor, fy=scale_factor, interpolation=cv2.INTER_CUBIC))\n",
    "\n",
    "# Demonstration\n",
    "nn_upscaled_image_2 = bilinear_upsample(image_lr_2, 2)\n",
    "nn_upscaled_image_4 = bilinear_upsample(image_lr_4, 4)\n",
    "\n",
    "# Create a figure with subplots\n",
    "fig, axs = plt.subplots(1, 5, figsize=(20, 5), gridspec_kw={'width_ratios': [1, 0.5, 1, 0.25, 1]})\n",
    "\n",
    "# Display each image in a subplot\n",
    "axs[0].imshow(image_hr)\n",
    "axs[0].set_title('Original Image')\n",
    "axs[0].axis('on')\n",
    "\n",
    "axs[1].imshow(image_lr_2)\n",
    "axs[1].set_title('Low Resolution (LR) x2')\n",
    "axs[1].axis('on')\n",
    "\n",
    "axs[2].imshow(nn_upscaled_image_2)\n",
    "axs[2].set_title('BICUBIC-Up x2')\n",
    "axs[2].axis('on')\n",
    "\n",
    "axs[3].imshow(image_lr_4)\n",
    "axs[3].set_title('Low Resolution (LR) x4')\n",
    "axs[3].axis('on')\n",
    "\n",
    "axs[4].imshow(nn_upscaled_image_4)\n",
    "axs[4].set_title('BICUBIC-Up x4')\n",
    "axs[4].axis('on')\n",
    "\n",
    "plt.show()"
   ]
  },
  {
   "cell_type": "markdown",
   "metadata": {},
   "source": [
    "# Lanczos Upsampling\n",
    "\n",
    "Lanczos upsampling is an interpolation method that provides high-quality results by using the sinc function to interpolate pixel values. It is particularly effective for resizing images while preserving detail and reducing artifacts."
   ]
  },
  {
   "cell_type": "code",
   "execution_count": null,
   "metadata": {},
   "outputs": [],
   "source": [
    "def lanczos_upsample(image, scale_factor):\n",
    "    image = np.array(image)\n",
    "    return Image.fromarray(cv2.resize(image, None, fx=scale_factor, fy=scale_factor, interpolation=cv2.INTER_LANCZOS4))\n",
    "\n",
    "# Demonstration\n",
    "nn_upscaled_image_2 = lanczos_upsample(image_lr_2, 2)\n",
    "nn_upscaled_image_4 = lanczos_upsample(image_lr_4, 4)\n",
    "\n",
    "# Create a figure with subplots\n",
    "fig, axs = plt.subplots(1, 5, figsize=(20, 5), gridspec_kw={'width_ratios': [1, 0.5, 1, 0.25, 1]})\n",
    "\n",
    "# Display each image in a subplot\n",
    "axs[0].imshow(image_hr)\n",
    "axs[0].set_title('Original Image')\n",
    "axs[0].axis('on')\n",
    "\n",
    "axs[1].imshow(image_lr_2)\n",
    "axs[1].set_title('Low Resolution (LR) x2')\n",
    "axs[1].axis('on')\n",
    "\n",
    "axs[2].imshow(nn_upscaled_image_2)\n",
    "axs[2].set_title('LANCZOS-Up x2')\n",
    "axs[2].axis('on')\n",
    "\n",
    "axs[3].imshow(image_lr_4)\n",
    "axs[3].set_title('Low Resolution (LR) x4')\n",
    "axs[3].axis('on')\n",
    "\n",
    "axs[4].imshow(nn_upscaled_image_4)\n",
    "axs[4].set_title('LANCZOS-Up x4')\n",
    "axs[4].axis('on')\n",
    "\n",
    "plt.show()"
   ]
  }
 ],
 "metadata": {
  "kernelspec": {
   "display_name": "arqesp",
   "language": "python",
   "name": "python3"
  },
  "language_info": {
   "codemirror_mode": {
    "name": "ipython",
    "version": 3
   },
   "file_extension": ".py",
   "mimetype": "text/x-python",
   "name": "python",
   "nbconvert_exporter": "python",
   "pygments_lexer": "ipython3",
   "version": "3.12.4"
  }
 },
 "nbformat": 4,
 "nbformat_minor": 2
}
